{
 "cells": [
  {
   "cell_type": "markdown",
   "metadata": {},
   "source": [
    "#1. Faça um Programa que verifique se uma letra digitada é vogal ou consoante."
   ]
  },
  {
   "cell_type": "code",
   "execution_count": 15,
   "metadata": {},
   "outputs": [
    {
     "name": "stdout",
     "output_type": "stream",
     "text": [
      "A letra digitada é uma consoante\n"
     ]
    }
   ],
   "source": [
    "letra = input('Digite uma letra: ')\n",
    "\n",
    "if letra in \"a, e, i, o, u, w, y\":\n",
    "    print('A letra digitada é uma vogal')\n",
    "else:\n",
    "    print('A letra digitada é uma consoante')    "
   ]
  },
  {
   "cell_type": "code",
   "execution_count": null,
   "metadata": {},
   "outputs": [],
   "source": [
    "#2. Faça um programa que pergunte o preço de três produtos e informe qual produto você deve comprar, sabendo que a decisão é sempre pelo mais barato."
   ]
  },
  {
   "cell_type": "code",
   "execution_count": 36,
   "metadata": {},
   "outputs": [
    {
     "name": "stdout",
     "output_type": "stream",
     "text": [
      "O valor mias em conta é produto 2 por R$1.00 \n"
     ]
    }
   ],
   "source": [
    "produto1 = float(input('Digite o preço do produto 1: '))                \n",
    "produto2 = float(input('Digite o preço do produto 2: '))  \n",
    "produto3 = float(input('Digite o preço do produto 3: '))  \n",
    "\n",
    "if produto1 < produto2 and produto3:\n",
    "    print(f'O valor mais em conta é produto 1 por R${produto1:.2f} ')\n",
    "elif produto2 < produto1 and produto3:\n",
    "    print(f'O valor mias em conta é produto 2 por R${produto2:.2f} ')\n",
    "else:\n",
    "    print(f'O valor mais em conta é produto 3 por R${produto3:.2f} ')        "
   ]
  },
  {
   "cell_type": "code",
   "execution_count": null,
   "metadata": {},
   "outputs": [],
   "source": [
    "# 3.Faça um Programa que leia três números e mostre-os em ordem descrescente."
   ]
  },
  {
   "cell_type": "code",
   "execution_count": 39,
   "metadata": {},
   "outputs": [
    {
     "name": "stdout",
     "output_type": "stream",
     "text": [
      "A ordem decrescente é 3, 2, 1\n"
     ]
    }
   ],
   "source": [
    "n1 = int(input('Digite o primeiro número: '))\n",
    "n2 = int(input('Digite o segundo número: '))\n",
    "n3 = int(input('Digite o terceiro número: '))\n",
    "\n",
    "if n1 < n3:\n",
    "    n1, n3 = n3, n1\n",
    "if n1 < n2:\n",
    "    n1, n2 = n2, n1\n",
    "if n2 < n3:\n",
    "    n2, n3 = n3, n2\n",
    "\n",
    "print(f'A ordem decrescente é {n1}, {n2}, {n3}')        "
   ]
  },
  {
   "cell_type": "code",
   "execution_count": null,
   "metadata": {},
   "outputs": [],
   "source": [
    "# 4.Faça um Programa que pergunte em que turno você estuda. Peça para digitar M-matutino ou V-Vespertino ou N- Noturno. Imprima a mensagem \"Bom dia!\", \"Boa tarde\", ou \"Boa noite!\" ou \"Valor Inválido!, conforme o caso.\""
   ]
  },
  {
   "cell_type": "code",
   "execution_count": 63,
   "metadata": {},
   "outputs": [
    {
     "name": "stdout",
     "output_type": "stream",
     "text": [
      "Valor inválido!\n"
     ]
    }
   ],
   "source": [
    "turno  = input('Digite em que turno você estuda (M-matutino, V-espertino ou N- noturno: ')\n",
    "\n",
    "if turno == 'M':\n",
    "    print(\"Bom dia!\")\n",
    "elif turno == 'V':\n",
    "     print('Boa tarde!')\n",
    "elif turno == 'N':\n",
    "     print('Boa noite!')\n",
    "else:\n",
    "    print('Valor inválido!')            "
   ]
  },
  {
   "cell_type": "code",
   "execution_count": null,
   "metadata": {},
   "outputs": [],
   "source": [
    "# 5.Faça um Programa que leia um número e exiba o dia corespondente da semana. (1-Domingo, 2-Segunda, etc). Se for digitado outro valor deve retornar uma mensagem informando valor inválido."
   ]
  },
  {
   "cell_type": "code",
   "execution_count": 71,
   "metadata": {},
   "outputs": [
    {
     "name": "stdout",
     "output_type": "stream",
     "text": [
      "Valor inválido!\n"
     ]
    }
   ],
   "source": [
    "numero = int(input('Digite um número de 1 a 7 corespondente ao dia da semana: '))\n",
    "\n",
    "if numero == 1:\n",
    "    print('Domingo')                    \n",
    "elif numero == 2:\n",
    "    print('Segunda-feira')\n",
    "elif numero == 3: \n",
    "    print('Terça-feira')\n",
    "elif numero == 4:\n",
    "    print('Quarta-feira')\n",
    "elif numero == 5:\n",
    "    print('Quinta-feira')\n",
    "elif numero == 6:\n",
    "    print('Sexta-feira') \n",
    "elif numero == 7:\n",
    "    print('Sábado')\n",
    "else:\n",
    "    print('Valor inválido!')   \n",
    "     "
   ]
  },
  {
   "cell_type": "code",
   "execution_count": null,
   "metadata": {},
   "outputs": [],
   "source": [
    "# 5.1 Faça um programa que lê as duas notas parciais obtidas por um aluno numa disciplina ao longo de um semestre, e calcule a sua média. A atribuição de conceito obedece ás regras:\n",
    "\n",
    "#Média de Apriveitamento     Conceito\n",
    "#Entre 9.0 e 10.0               A\n",
    "#Entre 7.5 e 9.0                B\n",
    "#Entre 6.0 e 7.5                C\n",
    "#Entre 4.0 e 6.0                D\n",
    "#Entre 4.0 e zero               E\n",
    "\n",
    "# O programa deve mostrar na tela as notas, a média, o conceito correspondente e a mensagem \"APROVADO\" se o conceito for A,B ou C ou \"REPROVADO\" se o conceito for D e E."
   ]
  },
  {
   "cell_type": "code",
   "execution_count": 93,
   "metadata": {},
   "outputs": [
    {
     "name": "stdout",
     "output_type": "stream",
     "text": [
      "Nota 1: 3.0, Nota 2: 4.5, Média: 3.75 (Conceito E - Reprovado)\n"
     ]
    }
   ],
   "source": [
    "nota1 = float(input('Digite a nota 1: '))                   \n",
    "nota2 = float(input('Digite a nota 2: '))\n",
    "\n",
    "media = (nota1 + nota2) / 2\n",
    "\n",
    "if media >= 9.0:\n",
    "    print(f\"Nota 1: {nota1}, Nota 2: {nota2}, Média: {media:.2f} (Conceito A - Aprovado)\")\n",
    "elif media >= 7.5:\n",
    "    print(f\"Nota 1: {nota1}, Nota 2: {nota2}, Média: {media:.2f} (Conceito B - Aprovado)\")\n",
    "elif media >= 6.0:\n",
    "    print(f\"Nota 1: {nota1}, Nota 2: {nota2}, Média: {media:.2f} (Conceito C - Aprovado)\")\n",
    "elif media < 6.0 and media >= 4.0:\n",
    "    print(f\"Nota 1: {nota1}, Nota 2: {nota2}, Média: {media:.2f} (Conceito D - Reprovado)\")\n",
    "else:\n",
    "    print(f\"Nota 1: {nota1}, Nota 2: {nota2}, Média: {media:.2f} (Conceito E - Reprovado)\")"
   ]
  },
  {
   "cell_type": "code",
   "execution_count": null,
   "metadata": {},
   "outputs": [],
   "source": [
    "# 6. Faça um programa que peça um número correspondente a um determinado ano e em seguida informe se este ano é ou não bissexto."
   ]
  },
  {
   "cell_type": "code",
   "execution_count": 3,
   "metadata": {},
   "outputs": [
    {
     "name": "stdout",
     "output_type": "stream",
     "text": [
      "É um ano bissexto.\n"
     ]
    }
   ],
   "source": [
    "ano = int(input('Digite o ano: '))\n",
    "\n",
    "if (ano % 4 == 0 and ano % 100 != 0) or ano % 400 == 0:\n",
    "    print('É um ano bissexto.')\n",
    "else:\n",
    "    print('Não é um ano bissexto.')\n"
   ]
  },
  {
   "cell_type": "code",
   "execution_count": null,
   "metadata": {},
   "outputs": [],
   "source": [
    "# 7. Faça um Programa que leia 2 número e em seguida pergunte ao usúario qual operação básica(soma, subtração, multiplicação, divisão, exponenciação) ele deseja realizar. O resultado da operação deve ser acompanhado de uma frase que diga se o número é: par ou ímpar; positivo ou negativo; inteiro ou decimal. "
   ]
  },
  {
   "cell_type": "code",
   "execution_count": 24,
   "metadata": {},
   "outputs": [
    {
     "name": "stdout",
     "output_type": "stream",
     "text": [
      "O resultado é 4.0\n",
      "O resultado é par.\n",
      "O resultado é positivo.\n",
      "O resultado é um número inteiro.\n"
     ]
    }
   ],
   "source": [
    "numero1 = float(input('Digite o primeiro número: '))\n",
    "numero2 = float(input('Digite o segundo número: '))\n",
    "\n",
    "operacao = input('Digite uma operação de sua escolha(soma, subtração, multiplicação, divisão, exponenciação): ')\n",
    "\n",
    "# Realiza a operação escolhida\n",
    "if operacao == \"soma\":\n",
    "    resultado = numero1 + numero2\n",
    "    print('O resultado é', resultado)\n",
    "elif operacao == \"subtração\":\n",
    "    resultado = numero1 - numero2\n",
    "    print('O resulatdo é', resultado)\n",
    "elif operacao == \"multiplicação\":\n",
    "    resultado = numero1 * numero2\n",
    "    print('O resultado é', resultado)\n",
    "elif operacao == \"divisão\":\n",
    "    if numero2 != 0:\n",
    "        resultado = numero1 / numero2\n",
    "        print('O resultado é', resultado)\n",
    "    else:\n",
    "        print(\"Divisão por zero não é permitida.\")\n",
    "        exit()\n",
    "elif operacao == \"exponenciação\":\n",
    "    resultado = numero1 ** numero2\n",
    "else:\n",
    "    print(\"Operação inválida.\")\n",
    "    exit()\n",
    "\n",
    "# Verifica se o resultado é par ou ímpar\n",
    "if resultado % 2 == 0:\n",
    "    print('O resultado é par.')\n",
    "else:\n",
    "    print('O resultado é ímpar.')\n",
    "\n",
    "# Verifica se o resultado é positivo ou negativo\n",
    "if resultado >= 0:\n",
    "    print('O resultado é positivo.')\n",
    "else:\n",
    "    print('O resultado é negativo.')\n",
    "\n",
    "# Verifica se o resultado é inteiro ou decimal\n",
    "if resultado.is_integer():\n",
    "    print('O resultado é um número inteiro.')\n",
    "else:\n",
    "    print('O resultado é um número decimal.')\n",
    "\n",
    "       "
   ]
  },
  {
   "cell_type": "code",
   "execution_count": null,
   "metadata": {},
   "outputs": [],
   "source": [
    "#8. Faça um programa que peça a idade e exiba a informação. Os valores aceitáveis devem estar entre 0 e 150. Valores fora desse limite não poderão ser aceitos."
   ]
  },
  {
   "cell_type": "code",
   "execution_count": 29,
   "metadata": {},
   "outputs": [
    {
     "name": "stdout",
     "output_type": "stream",
     "text": [
      "Valor não aceitável. A idade deve estar entre 0 e 150.\n"
     ]
    }
   ],
   "source": [
    "idade = int(input('Digite a sua idade: '))\n",
    "\n",
    " # Verifica se a idade está dentro do intervalo aceitável\n",
    "if 0 <= idade <= 150:\n",
    "    print('Sua idade é', idade,'anos.')\n",
    "else:\n",
    "    print(\"Valor não aceitável. A idade deve estar entre 0 e 150.\")"
   ]
  },
  {
   "cell_type": "code",
   "execution_count": null,
   "metadata": {},
   "outputs": [],
   "source": [
    "# 9.Utilizando estruturas de repetição e listas(com ou sem.append), faça um programa que leia 5 números e informe a soma e a média dos números."
   ]
  },
  {
   "cell_type": "code",
   "execution_count": 39,
   "metadata": {},
   "outputs": [
    {
     "name": "stdout",
     "output_type": "stream",
     "text": [
      "A soma dos números é: 15\n",
      "A média dos números é: 3.0\n"
     ]
    }
   ],
   "source": [
    "# Inicializa a variável para armazenar a soma\n",
    "soma = 0\n",
    "\n",
    "# Percorre a lista e soma os números\n",
    "for numero in [1, 2, 3, 4, 5]:\n",
    "    soma += numero\n",
    "\n",
    "media = soma / 5\n",
    "\n",
    "# Exibe o resultado da soma\n",
    "print('A soma dos números é:', soma)\n",
    "print('A média dos números é:', media)"
   ]
  },
  {
   "cell_type": "code",
   "execution_count": null,
   "metadata": {},
   "outputs": [],
   "source": [
    "# 10. Faça um programa que peça um número inteiro e determine se ele é ou não um número primo. Um número primo é aquele que é divisível somente por ele mesmo e por 1."
   ]
  },
  {
   "cell_type": "code",
   "execution_count": 72,
   "metadata": {},
   "outputs": [
    {
     "name": "stdout",
     "output_type": "stream",
     "text": [
      "14 não é um número primo.\n"
     ]
    }
   ],
   "source": [
    "numero = int(input(\"Digite um número inteiro: \"))\n",
    "\n",
    "if numero > 1:\n",
    "    for i in range(2, numero):\n",
    "        if (numero % i) == 0:\n",
    "            print(numero, 'não é um número primo.')\n",
    "            break\n",
    "    else:\n",
    "        print(numero, 'é um número primo.')\n",
    "else:\n",
    "    print(numero, 'não é um número primo.')"
   ]
  },
  {
   "cell_type": "code",
   "execution_count": null,
   "metadata": {},
   "outputs": [],
   "source": [
    "# 11. O Departamento Estadual de Meterologia lhe contratou para desenvolver um programa que leia 5 temperaturas, e informe ao final a menor e a maior temperaturas informandas, bem como a média das temperaturas."
   ]
  },
  {
   "cell_type": "code",
   "execution_count": 128,
   "metadata": {},
   "outputs": [
    {
     "name": "stdout",
     "output_type": "stream",
     "text": [
      "Temperaturas 23.4\n",
      "Temperaturas 25.6\n",
      "Temperaturas 29.8\n",
      "Temperaturas 30.1\n",
      "Temperaturas 32.7\n",
      "\n",
      "A média é: 28.320000000000004°C\n",
      "\n",
      "A menor temperatura é: 23.4°C\n",
      "\n",
      "A maior temperatura é: 32.7°C\n"
     ]
    }
   ],
   "source": [
    "for temperaturas in [23.4, 25.6, 29.8, 30.1, 32.7]:\n",
    "  print(\"Temperaturas\", temperaturas)\n",
    "\n",
    "temperaturas = [23.4, 25.6, 29.8, 30.1, 32.7]\n",
    "\n",
    "# Calcula a média\n",
    "media = sum(temperaturas) / len(temperaturas)\n",
    "\n",
    "# Encontra a menor e a maior temperatura\n",
    "menor = min(temperaturas)\n",
    "maior = max(temperaturas)\n",
    "\n",
    "print(f\"\\nA média é: {media}°C\")\n",
    "print(f\"\\nA menor temperatura é: {menor}°C\")\n",
    "print(f\"\\nA maior temperatura é: {maior}°C\")"
   ]
  },
  {
   "cell_type": "code",
   "execution_count": null,
   "metadata": {},
   "outputs": [],
   "source": [
    "# 12. Um banco concederá um crédito especial aos seus clientes, variável com o saldo médio no último ano. Faça um algoritimo que leia o saldo médio de um cliente e calcule o valor de crédito de acordo com a tabela abaixo. Mostre uma mensagem informando o saldo médioe o valor do crédito."
   ]
  },
  {
   "cell_type": "code",
   "execution_count": 143,
   "metadata": {},
   "outputs": [
    {
     "name": "stdout",
     "output_type": "stream",
     "text": [
      "Saldo médio: R$200.0\n",
      "Valor do crédito: R$0.0\n"
     ]
    }
   ],
   "source": [
    "# Lê o saldo médio do cliente\n",
    "saldo_medio = float(input(\"Digite o saldo médio do último ano: \"))\n",
    "\n",
    "# Calcula o valor do crédito de acordo com a tabela\n",
    "if saldo_medio <= 200:\n",
    "    percentual = 0\n",
    "elif 201 <= saldo_medio <= 400:\n",
    "    percentual = 0.20\n",
    "elif 401 <= saldo_medio <= 600:\n",
    "    percentual = 0.30\n",
    "else:\n",
    "    percentual = 0.40\n",
    "\n",
    "credito = saldo_medio * percentual\n",
    "\n",
    "# Exibe os resultados\n",
    "print(f\"Saldo médio: R${saldo_medio}\")\n",
    "print(f\"Valor do crédito: R${credito}\")\n"
   ]
  },
  {
   "cell_type": "code",
   "execution_count": null,
   "metadata": {},
   "outputs": [],
   "source": [
    "# 13.Você foi contratado(a) para fazer um serviço para o INSS(Instituto Nacional do Seguro Social) do Brasil. O trabalho consiste em criar um programa que diga a pessoa o ano que ela poderá se aposentar. Você deve perguntar a pessoa, o nome, a idade e criar uma mensagem dizendo em qual ano ela irá aposenatr. considere que todos as pessoas poderão se aposenatr aos 65 anos de idade(rs)."
   ]
  },
  {
   "cell_type": "code",
   "execution_count": 146,
   "metadata": {},
   "outputs": [
    {
     "name": "stdout",
     "output_type": "stream",
     "text": [
      "Olá edson Você poderá se aposentar em 2054\n"
     ]
    }
   ],
   "source": [
    "nome = input('Digite o seu nome: ')\n",
    "idade = int(input('Digite sua idade: '))\n",
    "\n",
    "ano_aposentadoria = 65 - idade + 2024\n",
    "\n",
    "print('Olá', nome,'Você poderá se aposentar em', ano_aposentadoria)"
   ]
  },
  {
   "cell_type": "code",
   "execution_count": null,
   "metadata": {},
   "outputs": [],
   "source": [
    "# 14. Faça um programa para o cálculo de uma folha de pagamento, sabendo que os descontos são do imposto de renda, que depende do salário bruto(conforme tabala abaixo), 3% para o Sindicato e que o FGTS corresponde a 11% do salário bruto, mas não é descontado(é a empresaquw deposita). O salário líquido corresponde ao salá´rio bruto menos os descontos. O programa devverá pedir ao usuário o valor de sua hora e a quantidade de horas trabalhadas no mês. Desconto do IR: Salário Burto atpe R$ 2.112,00(inclusive) - Isento; De 2.112,01 até 2.826,65(inclusive) - desconto de 7.5%, De 2.826,66 até 3.751,05(inclusive) - desconto de 15%, De 3.751,06 até 4.664,68(inclusive) - desconto de 2.5%, Acima de 4.664,68 - desconto de 27.5%."
   ]
  },
  {
   "cell_type": "code",
   "execution_count": 1,
   "metadata": {},
   "outputs": [
    {
     "name": "stdout",
     "output_type": "stream",
     "text": [
      "Salário Bruto: R$ 66000.00\n",
      "Desconto do IR: R$ 18150.00\n",
      "Desconto do Sindicato: R$ 1980.00\n",
      "FGTS: R$ 7260.00\n",
      "Salário Líquido: R$ 38610.00\n"
     ]
    }
   ],
   "source": [
    "def calcular_folha_pagamento():\n",
    "    valor_hora = float(input(\"Digite o valor da sua hora de trabalho: \"))\n",
    "    horas_trabalhadas = float(input(\"Digite a quantidade de horas trabalhadas neste mês: \"))\n",
    "\n",
    "    salario_bruto = valor_hora * horas_trabalhadas\n",
    "    fgts = salario_bruto * 0.11\n",
    "    sindicato = salario_bruto * 0.03\n",
    "\n",
    "    if salario_bruto <= 2112.00:\n",
    "        ir_desconto = 0\n",
    "    elif 2112.01 <= salario_bruto <= 2826.65:\n",
    "        ir_desconto = salario_bruto * 0.075\n",
    "    elif 2826.66 <= salario_bruto <= 3751.05:\n",
    "        ir_desconto = salario_bruto * 0.15\n",
    "    elif 3751.06 <= salario_bruto <= 4664.68:\n",
    "        ir_desconto = salario_bruto * 0.025\n",
    "    else:\n",
    "        ir_desconto = salario_bruto * 0.275\n",
    "\n",
    "    salario_liquido = salario_bruto - (ir_desconto + fgts + sindicato)\n",
    "\n",
    "    print(f\"Salário Bruto: R$ {salario_bruto:.2f}\")\n",
    "    print(f\"Desconto do IR: R$ {ir_desconto:.2f}\")\n",
    "    print(f\"Desconto do Sindicato: R$ {sindicato:.2f}\")\n",
    "    print(f\"FGTS: R$ {fgts:.2f}\")\n",
    "    print(f\"Salário Líquido: R$ {salario_liquido:.2f}\")\n",
    "\n",
    "calcular_folha_pagamento()\n",
    "\n"
   ]
  }
 ],
 "metadata": {
  "kernelspec": {
   "display_name": "Python 3",
   "language": "python",
   "name": "python3"
  },
  "language_info": {
   "codemirror_mode": {
    "name": "ipython",
    "version": 3
   },
   "file_extension": ".py",
   "mimetype": "text/x-python",
   "name": "python",
   "nbconvert_exporter": "python",
   "pygments_lexer": "ipython3",
   "version": "3.11.9"
  }
 },
 "nbformat": 4,
 "nbformat_minor": 2
}
